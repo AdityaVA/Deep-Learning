{
 "cells": [
  {
   "cell_type": "markdown",
   "metadata": {
    "id": "diyGYvVzkzVq"
   },
   "source": [
    "#TASK 1\n",
    "\n",
    "1.   PyTorch provides two data primitives: `torch.utils.data.DataLoader` and `torch.utils.data.Dataset` that allow you to use pre-loaded datasets as well as your own data. Use the `torchvision.datasets` to import preloaded Dataset [`CIFAR`](https://pytorch.org/vision/stable/datasets.html#cifar) to train and then finetune the ResNet18 model."
   ]
  },
  {
   "cell_type": "code",
   "execution_count": null,
   "metadata": {
    "id": "K1MtjLaEU7Du"
   },
   "outputs": [],
   "source": []
  },
  {
   "cell_type": "code",
   "execution_count": null,
   "metadata": {
    "colab": {
     "base_uri": "https://localhost:8080/",
     "height": 1000,
     "referenced_widgets": [
      "4745efc97ce04c149937fba0f24f43e8",
      "e73df76b302a4c5f8b1c5388b30ccb88",
      "b121f689f10a408991693ec87c387403",
      "baba3b242e0d4c2594527479103ac14c",
      "8d119f6bbc264ce5aa72a0b41dae4a89",
      "d9f195e911d2456e97e2b8a3a640086e",
      "9990b506f2a6422da9fccbd776e8d119",
      "61cda4f50a17484192889dd59a99ba9e"
     ]
    },
    "id": "XJgrC7WpnGIf",
    "outputId": "ced81500-2db4-4563-914a-619f5409a71d"
   },
   "outputs": [
    {
     "name": "stderr",
     "output_type": "stream",
     "text": [
      "Downloading: \"https://download.pytorch.org/models/resnet18-f37072fd.pth\" to /root/.cache/torch/hub/checkpoints/resnet18-f37072fd.pth\n"
     ]
    },
    {
     "data": {
      "application/vnd.jupyter.widget-view+json": {
       "model_id": "4745efc97ce04c149937fba0f24f43e8",
       "version_major": 2,
       "version_minor": 0
      },
      "text/plain": [
       "HBox(children=(FloatProgress(value=0.0, max=46830571.0), HTML(value='')))"
      ]
     },
     "metadata": {
      "tags": []
     },
     "output_type": "display_data"
    },
    {
     "name": "stdout",
     "output_type": "stream",
     "text": [
      "\n"
     ]
    },
    {
     "data": {
      "text/plain": [
       "ResNet(\n",
       "  (conv1): Conv2d(3, 64, kernel_size=(7, 7), stride=(2, 2), padding=(3, 3), bias=False)\n",
       "  (bn1): BatchNorm2d(64, eps=1e-05, momentum=0.1, affine=True, track_running_stats=True)\n",
       "  (relu): ReLU(inplace=True)\n",
       "  (maxpool): MaxPool2d(kernel_size=3, stride=2, padding=1, dilation=1, ceil_mode=False)\n",
       "  (layer1): Sequential(\n",
       "    (0): BasicBlock(\n",
       "      (conv1): Conv2d(64, 64, kernel_size=(3, 3), stride=(1, 1), padding=(1, 1), bias=False)\n",
       "      (bn1): BatchNorm2d(64, eps=1e-05, momentum=0.1, affine=True, track_running_stats=True)\n",
       "      (relu): ReLU(inplace=True)\n",
       "      (conv2): Conv2d(64, 64, kernel_size=(3, 3), stride=(1, 1), padding=(1, 1), bias=False)\n",
       "      (bn2): BatchNorm2d(64, eps=1e-05, momentum=0.1, affine=True, track_running_stats=True)\n",
       "    )\n",
       "    (1): BasicBlock(\n",
       "      (conv1): Conv2d(64, 64, kernel_size=(3, 3), stride=(1, 1), padding=(1, 1), bias=False)\n",
       "      (bn1): BatchNorm2d(64, eps=1e-05, momentum=0.1, affine=True, track_running_stats=True)\n",
       "      (relu): ReLU(inplace=True)\n",
       "      (conv2): Conv2d(64, 64, kernel_size=(3, 3), stride=(1, 1), padding=(1, 1), bias=False)\n",
       "      (bn2): BatchNorm2d(64, eps=1e-05, momentum=0.1, affine=True, track_running_stats=True)\n",
       "    )\n",
       "  )\n",
       "  (layer2): Sequential(\n",
       "    (0): BasicBlock(\n",
       "      (conv1): Conv2d(64, 128, kernel_size=(3, 3), stride=(2, 2), padding=(1, 1), bias=False)\n",
       "      (bn1): BatchNorm2d(128, eps=1e-05, momentum=0.1, affine=True, track_running_stats=True)\n",
       "      (relu): ReLU(inplace=True)\n",
       "      (conv2): Conv2d(128, 128, kernel_size=(3, 3), stride=(1, 1), padding=(1, 1), bias=False)\n",
       "      (bn2): BatchNorm2d(128, eps=1e-05, momentum=0.1, affine=True, track_running_stats=True)\n",
       "      (downsample): Sequential(\n",
       "        (0): Conv2d(64, 128, kernel_size=(1, 1), stride=(2, 2), bias=False)\n",
       "        (1): BatchNorm2d(128, eps=1e-05, momentum=0.1, affine=True, track_running_stats=True)\n",
       "      )\n",
       "    )\n",
       "    (1): BasicBlock(\n",
       "      (conv1): Conv2d(128, 128, kernel_size=(3, 3), stride=(1, 1), padding=(1, 1), bias=False)\n",
       "      (bn1): BatchNorm2d(128, eps=1e-05, momentum=0.1, affine=True, track_running_stats=True)\n",
       "      (relu): ReLU(inplace=True)\n",
       "      (conv2): Conv2d(128, 128, kernel_size=(3, 3), stride=(1, 1), padding=(1, 1), bias=False)\n",
       "      (bn2): BatchNorm2d(128, eps=1e-05, momentum=0.1, affine=True, track_running_stats=True)\n",
       "    )\n",
       "  )\n",
       "  (layer3): Sequential(\n",
       "    (0): BasicBlock(\n",
       "      (conv1): Conv2d(128, 256, kernel_size=(3, 3), stride=(2, 2), padding=(1, 1), bias=False)\n",
       "      (bn1): BatchNorm2d(256, eps=1e-05, momentum=0.1, affine=True, track_running_stats=True)\n",
       "      (relu): ReLU(inplace=True)\n",
       "      (conv2): Conv2d(256, 256, kernel_size=(3, 3), stride=(1, 1), padding=(1, 1), bias=False)\n",
       "      (bn2): BatchNorm2d(256, eps=1e-05, momentum=0.1, affine=True, track_running_stats=True)\n",
       "      (downsample): Sequential(\n",
       "        (0): Conv2d(128, 256, kernel_size=(1, 1), stride=(2, 2), bias=False)\n",
       "        (1): BatchNorm2d(256, eps=1e-05, momentum=0.1, affine=True, track_running_stats=True)\n",
       "      )\n",
       "    )\n",
       "    (1): BasicBlock(\n",
       "      (conv1): Conv2d(256, 256, kernel_size=(3, 3), stride=(1, 1), padding=(1, 1), bias=False)\n",
       "      (bn1): BatchNorm2d(256, eps=1e-05, momentum=0.1, affine=True, track_running_stats=True)\n",
       "      (relu): ReLU(inplace=True)\n",
       "      (conv2): Conv2d(256, 256, kernel_size=(3, 3), stride=(1, 1), padding=(1, 1), bias=False)\n",
       "      (bn2): BatchNorm2d(256, eps=1e-05, momentum=0.1, affine=True, track_running_stats=True)\n",
       "    )\n",
       "  )\n",
       "  (layer4): Sequential(\n",
       "    (0): BasicBlock(\n",
       "      (conv1): Conv2d(256, 512, kernel_size=(3, 3), stride=(2, 2), padding=(1, 1), bias=False)\n",
       "      (bn1): BatchNorm2d(512, eps=1e-05, momentum=0.1, affine=True, track_running_stats=True)\n",
       "      (relu): ReLU(inplace=True)\n",
       "      (conv2): Conv2d(512, 512, kernel_size=(3, 3), stride=(1, 1), padding=(1, 1), bias=False)\n",
       "      (bn2): BatchNorm2d(512, eps=1e-05, momentum=0.1, affine=True, track_running_stats=True)\n",
       "      (downsample): Sequential(\n",
       "        (0): Conv2d(256, 512, kernel_size=(1, 1), stride=(2, 2), bias=False)\n",
       "        (1): BatchNorm2d(512, eps=1e-05, momentum=0.1, affine=True, track_running_stats=True)\n",
       "      )\n",
       "    )\n",
       "    (1): BasicBlock(\n",
       "      (conv1): Conv2d(512, 512, kernel_size=(3, 3), stride=(1, 1), padding=(1, 1), bias=False)\n",
       "      (bn1): BatchNorm2d(512, eps=1e-05, momentum=0.1, affine=True, track_running_stats=True)\n",
       "      (relu): ReLU(inplace=True)\n",
       "      (conv2): Conv2d(512, 512, kernel_size=(3, 3), stride=(1, 1), padding=(1, 1), bias=False)\n",
       "      (bn2): BatchNorm2d(512, eps=1e-05, momentum=0.1, affine=True, track_running_stats=True)\n",
       "    )\n",
       "  )\n",
       "  (avgpool): AdaptiveAvgPool2d(output_size=(1, 1))\n",
       "  (fc): Linear(in_features=512, out_features=1000, bias=True)\n",
       ")"
      ]
     },
     "execution_count": 4,
     "metadata": {
      "tags": []
     },
     "output_type": "execute_result"
    }
   ],
   "source": [
    "#Loading in Resnet18 pre-trained Model\n",
    "import torchvision.models as models\n",
    "model = models.resnet18(pretrained = True)\n",
    "model\n",
    "#You can use ```dir(models)``` to see various models available for Transfer Learning"
   ]
  },
  {
   "cell_type": "code",
   "execution_count": null,
   "metadata": {
    "id": "rjzwC2bQn2gb"
   },
   "outputs": [],
   "source": [
    "#Freeze the model weights\n",
    "for param in model.parameters():\n",
    "    param.requires_grad = False"
   ]
  },
  {
   "cell_type": "code",
   "execution_count": null,
   "metadata": {
    "id": "qSoIrAU6n76g"
   },
   "outputs": [],
   "source": [
    "#Add the fully connected layer\n",
    "import torch.nn as nn\n",
    "num_ftrs = model.fc.in_features\n",
    "model.fc = nn.Linear(num_ftrs, 10)         \n",
    "model = model.to('cuda') \n",
    "#Here replace num_classes with number of classes you are classifying "
   ]
  },
  {
   "cell_type": "code",
   "execution_count": null,
   "metadata": {
    "colab": {
     "base_uri": "https://localhost:8080/"
    },
    "id": "5_Or-eDCvVga",
    "outputId": "0ba89d31-8616-44e5-a718-0c7f61141799"
   },
   "outputs": [
    {
     "name": "stdout",
     "output_type": "stream",
     "text": [
      "----------------------------------------------------------------\n",
      "        Layer (type)               Output Shape         Param #\n",
      "================================================================\n",
      "            Conv2d-1          [8, 64, 150, 150]           9,408\n",
      "       BatchNorm2d-2          [8, 64, 150, 150]             128\n",
      "              ReLU-3          [8, 64, 150, 150]               0\n",
      "         MaxPool2d-4            [8, 64, 75, 75]               0\n",
      "            Conv2d-5            [8, 64, 75, 75]          36,864\n",
      "       BatchNorm2d-6            [8, 64, 75, 75]             128\n",
      "              ReLU-7            [8, 64, 75, 75]               0\n",
      "            Conv2d-8            [8, 64, 75, 75]          36,864\n",
      "       BatchNorm2d-9            [8, 64, 75, 75]             128\n",
      "             ReLU-10            [8, 64, 75, 75]               0\n",
      "       BasicBlock-11            [8, 64, 75, 75]               0\n",
      "           Conv2d-12            [8, 64, 75, 75]          36,864\n",
      "      BatchNorm2d-13            [8, 64, 75, 75]             128\n",
      "             ReLU-14            [8, 64, 75, 75]               0\n",
      "           Conv2d-15            [8, 64, 75, 75]          36,864\n",
      "      BatchNorm2d-16            [8, 64, 75, 75]             128\n",
      "             ReLU-17            [8, 64, 75, 75]               0\n",
      "       BasicBlock-18            [8, 64, 75, 75]               0\n",
      "           Conv2d-19           [8, 128, 38, 38]          73,728\n",
      "      BatchNorm2d-20           [8, 128, 38, 38]             256\n",
      "             ReLU-21           [8, 128, 38, 38]               0\n",
      "           Conv2d-22           [8, 128, 38, 38]         147,456\n",
      "      BatchNorm2d-23           [8, 128, 38, 38]             256\n",
      "           Conv2d-24           [8, 128, 38, 38]           8,192\n",
      "      BatchNorm2d-25           [8, 128, 38, 38]             256\n",
      "             ReLU-26           [8, 128, 38, 38]               0\n",
      "       BasicBlock-27           [8, 128, 38, 38]               0\n",
      "           Conv2d-28           [8, 128, 38, 38]         147,456\n",
      "      BatchNorm2d-29           [8, 128, 38, 38]             256\n",
      "             ReLU-30           [8, 128, 38, 38]               0\n",
      "           Conv2d-31           [8, 128, 38, 38]         147,456\n",
      "      BatchNorm2d-32           [8, 128, 38, 38]             256\n",
      "             ReLU-33           [8, 128, 38, 38]               0\n",
      "       BasicBlock-34           [8, 128, 38, 38]               0\n",
      "           Conv2d-35           [8, 256, 19, 19]         294,912\n",
      "      BatchNorm2d-36           [8, 256, 19, 19]             512\n",
      "             ReLU-37           [8, 256, 19, 19]               0\n",
      "           Conv2d-38           [8, 256, 19, 19]         589,824\n",
      "      BatchNorm2d-39           [8, 256, 19, 19]             512\n",
      "           Conv2d-40           [8, 256, 19, 19]          32,768\n",
      "      BatchNorm2d-41           [8, 256, 19, 19]             512\n",
      "             ReLU-42           [8, 256, 19, 19]               0\n",
      "       BasicBlock-43           [8, 256, 19, 19]               0\n",
      "           Conv2d-44           [8, 256, 19, 19]         589,824\n",
      "      BatchNorm2d-45           [8, 256, 19, 19]             512\n",
      "             ReLU-46           [8, 256, 19, 19]               0\n",
      "           Conv2d-47           [8, 256, 19, 19]         589,824\n",
      "      BatchNorm2d-48           [8, 256, 19, 19]             512\n",
      "             ReLU-49           [8, 256, 19, 19]               0\n",
      "       BasicBlock-50           [8, 256, 19, 19]               0\n",
      "           Conv2d-51           [8, 512, 10, 10]       1,179,648\n",
      "      BatchNorm2d-52           [8, 512, 10, 10]           1,024\n",
      "             ReLU-53           [8, 512, 10, 10]               0\n",
      "           Conv2d-54           [8, 512, 10, 10]       2,359,296\n",
      "      BatchNorm2d-55           [8, 512, 10, 10]           1,024\n",
      "           Conv2d-56           [8, 512, 10, 10]         131,072\n",
      "      BatchNorm2d-57           [8, 512, 10, 10]           1,024\n",
      "             ReLU-58           [8, 512, 10, 10]               0\n",
      "       BasicBlock-59           [8, 512, 10, 10]               0\n",
      "           Conv2d-60           [8, 512, 10, 10]       2,359,296\n",
      "      BatchNorm2d-61           [8, 512, 10, 10]           1,024\n",
      "             ReLU-62           [8, 512, 10, 10]               0\n",
      "           Conv2d-63           [8, 512, 10, 10]       2,359,296\n",
      "      BatchNorm2d-64           [8, 512, 10, 10]           1,024\n",
      "             ReLU-65           [8, 512, 10, 10]               0\n",
      "       BasicBlock-66           [8, 512, 10, 10]               0\n",
      "AdaptiveAvgPool2d-67             [8, 512, 1, 1]               0\n",
      "           Linear-68                    [8, 10]           5,130\n",
      "================================================================\n",
      "Total params: 11,181,642\n",
      "Trainable params: 5,130\n",
      "Non-trainable params: 11,176,512\n",
      "----------------------------------------------------------------\n",
      "Input size (MB): 8.18\n",
      "Forward/backward pass size (MB): 914.04\n",
      "Params size (MB): 42.65\n",
      "Estimated Total Size (MB): 964.88\n",
      "----------------------------------------------------------------\n"
     ]
    },
    {
     "name": "stderr",
     "output_type": "stream",
     "text": [
      "/usr/local/lib/python3.7/dist-packages/torch/nn/functional.py:718: UserWarning: Named tensors and all their associated APIs are an experimental feature and subject to change. Please do not use them for anything important until they are released as stable. (Triggered internally at  /pytorch/c10/core/TensorImpl.h:1156.)\n",
      "  return torch.max_pool2d(input, kernel_size, stride, padding, dilation, ceil_mode)\n"
     ]
    }
   ],
   "source": [
    "#Check model summary once to ensure the changes you made\n",
    "from torchsummary import summary\n",
    "summary(model, input_size=(3, 299, 299), batch_size=8, device='cuda')"
   ]
  },
  {
   "cell_type": "code",
   "execution_count": null,
   "metadata": {
    "id": "DHMBSI5sodWR"
   },
   "outputs": [],
   "source": [
    "#Define your transformations to be applied on the images here\n",
    "from torchvision import transforms\n",
    "train_transforms = transforms.Compose(\n",
    " [\n",
    "  transforms.RandomApply(transforms =[transforms.Pad(8, padding_mode='symmetric'),\n",
    "                                        transforms.RandomAffine(degrees = 16, translate = (0.05,0.05), scale = (0.64,0.9), fill=(124,252,0))], p=0.3), \n",
    "    \n",
    "  transforms.RandomResizedCrop(224),  \n",
    "  transforms.RandomHorizontalFlip(),  \n",
    "  transforms.RandomPosterize(2, p=0.2),  #posterizes the image \n",
    "\n",
    "\n",
    "  transforms.ColorJitter(brightness=0.7, contrast=(0.1,1.5), saturation=0.4, hue=0.25),  #Jitters the given parameters\n",
    "\n",
    "  transforms.RandomGrayscale(p=0.1,),  #Randomly converts image to grayscale, note by default if input image has 3 channels,\n",
    "                                        #output image also has 3 channels\n",
    "  \n",
    "  transforms.ToTensor(),              \n",
    "  transforms.Normalize([0.485, 0.456, 0.406], [0.229, 0.224, 0.225])  #Default ImageNet values\n",
    "\n",
    " ]\n",
    "\n",
    ")\n",
    "val_transforms = transforms.Compose([           \n",
    "        transforms.Resize(256),\n",
    "        transforms.CenterCrop(224),\n",
    "        transforms.ToTensor(),\n",
    "        transforms.Normalize([0.485, 0.456, 0.406], [0.229, 0.224, 0.225])\n",
    "    ])"
   ]
  },
  {
   "cell_type": "code",
   "execution_count": null,
   "metadata": {
    "colab": {
     "base_uri": "https://localhost:8080/"
    },
    "id": "P4yH2jVupCQs",
    "outputId": "6274392f-8b6f-4d81-dbcb-d92dbe8bf1b5"
   },
   "outputs": [
    {
     "name": "stdout",
     "output_type": "stream",
     "text": [
      "Files already downloaded and verified\n",
      "Files already downloaded and verified\n"
     ]
    }
   ],
   "source": [
    "#Import the CIFAR apply the transformations you created above\n",
    "#You can access the link given in question statement to check syntax for importing fakedata dataset\n",
    "#Create DataLoaders for you train and val Datasets\n",
    "from torchvision.datasets import CIFAR10\n",
    "from torchvision.datasets import ImageFolder\n",
    "from torch.utils.data.dataloader import DataLoader\n",
    "train_set = CIFAR10(root='./data', train=True,\n",
    "                                        download=True, transform=train_transforms)\n",
    "train_loader = DataLoader(train_set, batch_size=32,\n",
    "                                          shuffle=True)\n",
    "val_set = CIFAR10(root='./data', train=False,\n",
    "                                       download=True, transform=val_transforms)\n",
    "val_loader = DataLoader(val_set, batch_size=32,\n",
    "                                         shuffle=False)\n",
    "#Remember to split the dataset into train_dataset and val_dataset"
   ]
  },
  {
   "cell_type": "code",
   "execution_count": null,
   "metadata": {
    "id": "4QlptjXGqcut"
   },
   "outputs": [],
   "source": [
    "'''Define your train function here\n",
    "you may exclude the timer and scheduler'''\n",
    "import numpy as np\n",
    "import torch\n",
    "\n",
    "\n",
    "def train(model,\n",
    "          criterion,\n",
    "          optimizer,\n",
    "          scheduler,          \n",
    "          train_loader,\n",
    "          valid_loader,\n",
    "          save_file_name,\n",
    "          max_epochs_stop=3,\n",
    "          n_epochs=20,\n",
    "          print_every=2):\n",
    "  \n",
    "  # Early stopping intialization\n",
    "    epochs_no_improve = 0\n",
    "    valid_loss_min = np.Inf\n",
    "\n",
    "    valid_max_acc = 0\n",
    "    \n",
    "\n",
    "     # Number of epochs already trained (if using loaded in model weights)\n",
    "    try:\n",
    "        print(f'Model has been trained for: {model.epochs} epochs.\\n')\n",
    "    except:\n",
    "        model.epochs = 0\n",
    "        print(f'Starting Training from Scratch.\\n')\n",
    "    \n",
    "    \n",
    "    # Main loop\n",
    "    for epoch in range(n_epochs):\n",
    "\n",
    "        # keep track of training and validation loss each epoch\n",
    "        train_loss = 0.0\n",
    "        valid_loss = 0.0\n",
    "\n",
    "        train_acc = 0\n",
    "        valid_acc = 0\n",
    "\n",
    "        # Set to training\n",
    "        scheduler.step(valid_loss)\n",
    "        model.train()\n",
    "        \n",
    "        # Training loop\n",
    "        for ii, (data, target) in enumerate(train_loader):\n",
    "            # Tensors to gpu\n",
    "            data, target = data.cuda(), target.cuda()\n",
    "\n",
    "            # Clear gradients\n",
    "            optimizer.zero_grad()\n",
    "            # Get model outputs and calculate loss\n",
    "            # Special case for inception because in training it has an auxiliary output. In train\n",
    "            # mode we calculate the loss by summing the final output and the auxiliary output\n",
    "            # but in testing we only consider the final output.\n",
    "             # From https://discuss.pytorch.org/t/how-to-optimize-inception-model-with-auxiliary-classifiers/7958\n",
    "            output= model(data)\n",
    "\n",
    "            # Loss and backpropagation of gradients\n",
    "            loss = criterion(output, target)\n",
    "            loss.backward()\n",
    "\n",
    "            # Update the parameters\n",
    "            optimizer.step()\n",
    "\n",
    "            # Track train loss by multiplying average loss by number of examples in batch\n",
    "            train_loss += loss.item() * data.size(0)\n",
    "\n",
    "            # Calculate accuracy by finding max probability\n",
    "            _, pred = torch.max(output, dim=1)\n",
    "            correct_tensor = pred.eq(target.data.view_as(pred))\n",
    "            # Need to convert correct tensor from int to float to average\n",
    "            accuracy = torch.mean(correct_tensor.type(torch.FloatTensor))\n",
    "            # Multiply average accuracy times the number of examples in batch\n",
    "            train_acc += accuracy.item() * data.size(0)\n",
    "\n",
    "            # Track training progress\n",
    "            print(\n",
    "                f'Epoch: {epoch}\\t{100 * (ii + 1) / len(train_loader):.2f}% complete.',\n",
    "                end='\\r')\n",
    "\n",
    "        # After training loops ends, start validation\n",
    "        else:\n",
    "            model.epochs += 1\n",
    "\n",
    "            # Don't need to keep track of gradients\n",
    "            with torch.no_grad():\n",
    "                # Set to evaluation mode\n",
    "                model.eval()\n",
    "\n",
    "                # Validation loop\n",
    "                for data, target in valid_loader:\n",
    "                    # Tensors to gpu\n",
    "                    data, target = data.cuda(), target.cuda()\n",
    "\n",
    "                    # Forward pass\n",
    "                    output = model(data)\n",
    "\n",
    "                    # Validation loss\n",
    "                    loss = criterion(output, target)\n",
    "                    # Multiply average loss times the number of examples in batch\n",
    "                    valid_loss += loss.item() * data.size(0)\n",
    "\n",
    "                    # Calculate validation accuracy\n",
    "                    _, pred = torch.max(output, dim=1)\n",
    "                    correct_tensor = pred.eq(target.data.view_as(pred))\n",
    "                    accuracy = torch.mean(\n",
    "                        correct_tensor.type(torch.FloatTensor))\n",
    "                    # Multiply average accuracy times the number of examples\n",
    "                    valid_acc += accuracy.item() * data.size(0)\n",
    "\n",
    "                # Calculate average losses\n",
    "                train_loss = train_loss / len(train_loader.dataset)\n",
    "                valid_loss = valid_loss / len(valid_loader.dataset)\n",
    "\n",
    "                # Calculate average accuracy\n",
    "                train_acc = train_acc / len(train_loader.dataset)\n",
    "                valid_acc = valid_acc / len(valid_loader.dataset)\n",
    "\n",
    "                \n",
    "\n",
    "                # Print training and validation results\n",
    "                if (epoch + 1) % print_every == 0:\n",
    "                    print(\n",
    "                        f'\\nEpoch: {epoch} \\tTraining Loss: {train_loss:.4f} \\tValidation Loss: {valid_loss:.4f}'\n",
    "                    )\n",
    "                    print(\n",
    "                        f'\\t\\tTraining Accuracy: {100 * train_acc:.2f}%\\t Validation Accuracy: {100 * valid_acc:.2f}%'\n",
    "                    )\n",
    "\n",
    "                # Save the model if validation loss decreases\n",
    "                if valid_loss < valid_loss_min:\n",
    "                    # Save model\n",
    "                    torch.save(model.state_dict(), save_file_name)\n",
    "                    # Track improvement\n",
    "                    epochs_no_improve = 0\n",
    "                    valid_loss_min = valid_loss\n",
    "                    valid_best_acc = valid_acc\n",
    "                    best_epoch = epoch\n",
    "\n",
    "                # Otherwise increment count of epochs with no improvement\n",
    "                else:\n",
    "                    epochs_no_improve += 1\n",
    "                    # Trigger early stopping\n",
    "                    if epochs_no_improve >= max_epochs_stop:\n",
    "                        print(\n",
    "                            f'\\nEarly Stopping! Total epochs: {epoch}. Best epoch: {best_epoch} with loss: {valid_loss_min:.2f} and acc: {100 * valid_acc:.2f}%'\n",
    "                        )\n",
    "                        # Load the best state dict\n",
    "                        model.load_state_dict(torch.load(save_file_name))\n",
    "                        # Attach the optimizer\n",
    "                        model.optimizer = optimizer\n",
    "\n",
    "                        \n",
    "                        return model\n",
    "\n",
    "    # Attach the optimizer\n",
    "    model.optimizer = optimizer\n",
    "    # Record overall time and print out stats\n",
    "    print(\n",
    "        f'\\nBest epoch: {best_epoch} with loss: {valid_loss_min:.2f} and acc: {100 * valid_acc:.2f}%'\n",
    "    )\n",
    "    return model"
   ]
  },
  {
   "cell_type": "code",
   "execution_count": null,
   "metadata": {
    "id": "N4aijCH0qia8"
   },
   "outputs": [],
   "source": [
    "'''define the criterion,optimizer and scheduler(if used) parameters here'''\n",
    "from torch import optim\n",
    "criterion = nn.CrossEntropyLoss()\n",
    "optimizer = optim.SGD(model.parameters(), lr=0.001, momentum=0.9)\n",
    "scheduler = optim.lr_scheduler.ReduceLROnPlateau(optimizer, 'min', factor=0.1, patience=2)"
   ]
  },
  {
   "cell_type": "code",
   "execution_count": null,
   "metadata": {
    "colab": {
     "base_uri": "https://localhost:8080/"
    },
    "id": "m5nnKkz7qyMd",
    "outputId": "d220cb8a-ab38-401d-b5f9-ff9e8c93c56e"
   },
   "outputs": [
    {
     "name": "stdout",
     "output_type": "stream",
     "text": [
      "Model has been trained for: 0 epochs.\n",
      "\n",
      "\n",
      "Epoch: 1 \tTraining Loss: 1.7618 \tValidation Loss: 0.9968\n",
      "\t\tTraining Accuracy: 38.26%\t Validation Accuracy: 68.23%\n",
      "\n",
      "Epoch: 3 \tTraining Loss: 1.7398 \tValidation Loss: 0.9817\n",
      "\t\tTraining Accuracy: 39.14%\t Validation Accuracy: 68.78%\n",
      "\n",
      "Epoch: 5 \tTraining Loss: 1.7309 \tValidation Loss: 0.9875\n",
      "\t\tTraining Accuracy: 39.02%\t Validation Accuracy: 68.12%\n",
      "\n",
      "Epoch: 7 \tTraining Loss: 1.7288 \tValidation Loss: 0.9745\n",
      "\t\tTraining Accuracy: 39.16%\t Validation Accuracy: 68.95%\n",
      "\n",
      "Early Stopping! Total epochs: 7. Best epoch: 2 with loss: 0.97 and acc: 68.95%\n"
     ]
    }
   ],
   "source": [
    "'''run the model''' \n",
    "model = train(\n",
    "    model,\n",
    "    criterion,\n",
    "    optimizer,\n",
    "    scheduler,\n",
    "    train_loader,\n",
    "    val_loader,\n",
    "    save_file_name=\"best.pth\",\n",
    "    max_epochs_stop=5,\n",
    "    n_epochs=30,\n",
    "    print_every=2\n",
    "  )"
   ]
  },
  {
   "cell_type": "code",
   "execution_count": null,
   "metadata": {
    "id": "coejSsPbskK1"
   },
   "outputs": [],
   "source": [
    "'''Unfreeze all the layers and finetune the model to increase accuracy as model gets updated for relevancy towards the dataset'''\n",
    "for param in model.parameters():\n",
    "    param.requires_grad = True"
   ]
  },
  {
   "cell_type": "code",
   "execution_count": null,
   "metadata": {
    "colab": {
     "base_uri": "https://localhost:8080/"
    },
    "id": "wj1V2O0540Rw",
    "outputId": "f6501a0a-bd77-4ce6-ea4e-8e6a8f55dbb5"
   },
   "outputs": [
    {
     "name": "stdout",
     "output_type": "stream",
     "text": [
      "Model has been trained for: 8 epochs.\n",
      "\n",
      "\n",
      "Epoch: 0 \tTraining Loss: 1.7234 \tValidation Loss: 0.9653\n",
      "\t\tTraining Accuracy: 39.76%\t Validation Accuracy: 68.83%\n",
      "\n",
      "Epoch: 1 \tTraining Loss: 1.7109 \tValidation Loss: 0.9512\n",
      "\t\tTraining Accuracy: 40.07%\t Validation Accuracy: 69.81%\n",
      "\n",
      "Epoch: 2 \tTraining Loss: 1.7124 \tValidation Loss: 0.9598\n",
      "\t\tTraining Accuracy: 39.86%\t Validation Accuracy: 69.14%\n",
      "\n",
      "Epoch: 3 \tTraining Loss: 1.7118 \tValidation Loss: 0.9676\n",
      "\t\tTraining Accuracy: 40.01%\t Validation Accuracy: 68.85%\n",
      "\n",
      "Epoch: 4 \tTraining Loss: 1.7100 \tValidation Loss: 0.9743\n",
      "\t\tTraining Accuracy: 40.00%\t Validation Accuracy: 68.23%\n",
      "\n",
      "Epoch: 5 \tTraining Loss: 1.7084 \tValidation Loss: 0.9567\n",
      "\t\tTraining Accuracy: 40.15%\t Validation Accuracy: 69.47%\n",
      "\n",
      "Epoch: 6 \tTraining Loss: 1.7118 \tValidation Loss: 0.9458\n",
      "\t\tTraining Accuracy: 40.09%\t Validation Accuracy: 69.85%\n",
      "\n",
      "Epoch: 7 \tTraining Loss: 1.7135 \tValidation Loss: 0.9638\n",
      "\t\tTraining Accuracy: 40.26%\t Validation Accuracy: 68.97%\n",
      "\n",
      "Epoch: 8 \tTraining Loss: 1.7124 \tValidation Loss: 0.9570\n",
      "\t\tTraining Accuracy: 40.13%\t Validation Accuracy: 69.22%\n",
      "\n",
      "Epoch: 9 \tTraining Loss: 1.7127 \tValidation Loss: 0.9678\n",
      "\t\tTraining Accuracy: 39.71%\t Validation Accuracy: 68.71%\n",
      "\n",
      "Epoch: 10 \tTraining Loss: 1.7157 \tValidation Loss: 0.9484\n",
      "\t\tTraining Accuracy: 39.97%\t Validation Accuracy: 69.64%\n",
      "\n",
      "Epoch: 11 \tTraining Loss: 1.7141 \tValidation Loss: 0.9507\n",
      "\t\tTraining Accuracy: 39.85%\t Validation Accuracy: 69.45%\n",
      "\n",
      "Early Stopping! Total epochs: 11. Best epoch: 6 with loss: 0.95 and acc: 69.45%\n"
     ]
    }
   ],
   "source": [
    "model = train(\n",
    "    model,\n",
    "    criterion,\n",
    "    optimizer,\n",
    "    scheduler,\n",
    "    train_loader,\n",
    "    val_loader,\n",
    "    save_file_name=\"best.pth\",\n",
    "    max_epochs_stop=5,\n",
    "    n_epochs=30,\n",
    "    print_every=1)"
   ]
  },
  {
   "cell_type": "markdown",
   "metadata": {
    "id": "RQwGbJS7uw-I"
   },
   "source": [
    "#TASK 2"
   ]
  },
  {
   "cell_type": "code",
   "execution_count": null,
   "metadata": {
    "id": "BZBajf_zobS0"
   },
   "outputs": [],
   "source": [
    "import random\n",
    "import numpy as np\n",
    "import pandas as pd\n",
    "from google.colab.patches import cv2_imshow\n",
    "import cv2"
   ]
  },
  {
   "cell_type": "code",
   "execution_count": null,
   "metadata": {
    "colab": {
     "base_uri": "https://localhost:8080/",
     "height": 170
    },
    "id": "WyyrRJgsOE9Z",
    "outputId": "f71add4c-a6ab-40a1-b4ec-49aa102116ea"
   },
   "outputs": [
    {
     "data": {
      "text/html": [
       "<div>\n",
       "<style scoped>\n",
       "    .dataframe tbody tr th:only-of-type {\n",
       "        vertical-align: middle;\n",
       "    }\n",
       "\n",
       "    .dataframe tbody tr th {\n",
       "        vertical-align: top;\n",
       "    }\n",
       "\n",
       "    .dataframe thead th {\n",
       "        text-align: right;\n",
       "    }\n",
       "</style>\n",
       "<table border=\"1\" class=\"dataframe\">\n",
       "  <thead>\n",
       "    <tr style=\"text-align: right;\">\n",
       "      <th></th>\n",
       "      <th>Test_case_number</th>\n",
       "      <th>Box_1</th>\n",
       "      <th>Box_2</th>\n",
       "    </tr>\n",
       "  </thead>\n",
       "  <tbody>\n",
       "    <tr>\n",
       "      <th>0</th>\n",
       "      <td>Test_case_1</td>\n",
       "      <td>[199, 422, 477, 474]</td>\n",
       "      <td>[31, 419, 204, 436]</td>\n",
       "    </tr>\n",
       "    <tr>\n",
       "      <th>1</th>\n",
       "      <td>Test_case_2</td>\n",
       "      <td>[345, 367, 449, 502]</td>\n",
       "      <td>[335, 333, 374, 452]</td>\n",
       "    </tr>\n",
       "    <tr>\n",
       "      <th>2</th>\n",
       "      <td>Test_case_3</td>\n",
       "      <td>[350, 147, 492, 20]</td>\n",
       "      <td>[462, 157, 478, 357]</td>\n",
       "    </tr>\n",
       "    <tr>\n",
       "      <th>3</th>\n",
       "      <td>Test_case_4</td>\n",
       "      <td>[215, 251, 446, 425]</td>\n",
       "      <td>[126, 463, 360, 510]</td>\n",
       "    </tr>\n",
       "  </tbody>\n",
       "</table>\n",
       "</div>"
      ],
      "text/plain": [
       "  Test_case_number                 Box_1                 Box_2\n",
       "0      Test_case_1  [199, 422, 477, 474]   [31, 419, 204, 436]\n",
       "1      Test_case_2  [345, 367, 449, 502]  [335, 333, 374, 452]\n",
       "2      Test_case_3   [350, 147, 492, 20]  [462, 157, 478, 357]\n",
       "3      Test_case_4  [215, 251, 446, 425]  [126, 463, 360, 510]"
      ]
     },
     "execution_count": 30,
     "metadata": {
      "tags": []
     },
     "output_type": "execute_result"
    }
   ],
   "source": [
    "# Load the datasets\n",
    "# reading CSV file\n",
    "data_iou = pd.read_csv(\"iou_testcases.csv\")\n",
    "data_iou"
   ]
  },
  {
   "cell_type": "code",
   "execution_count": null,
   "metadata": {
    "colab": {
     "base_uri": "https://localhost:8080/",
     "height": 170
    },
    "id": "KG6qWUBcAj2s",
    "outputId": "6035eca0-8497-423a-918e-53199752b696"
   },
   "outputs": [
    {
     "data": {
      "text/html": [
       "<div>\n",
       "<style scoped>\n",
       "    .dataframe tbody tr th:only-of-type {\n",
       "        vertical-align: middle;\n",
       "    }\n",
       "\n",
       "    .dataframe tbody tr th {\n",
       "        vertical-align: top;\n",
       "    }\n",
       "\n",
       "    .dataframe thead th {\n",
       "        text-align: right;\n",
       "    }\n",
       "</style>\n",
       "<table border=\"1\" class=\"dataframe\">\n",
       "  <thead>\n",
       "    <tr style=\"text-align: right;\">\n",
       "      <th></th>\n",
       "      <th>Test_case_number</th>\n",
       "      <th>Box_1</th>\n",
       "      <th>Box_2</th>\n",
       "      <th>Box_3</th>\n",
       "      <th>Box_4</th>\n",
       "    </tr>\n",
       "  </thead>\n",
       "  <tbody>\n",
       "    <tr>\n",
       "      <th>0</th>\n",
       "      <td>Test_case_1</td>\n",
       "      <td>[200, 100, 300, 300, 0.95]</td>\n",
       "      <td>[220, 110, 320, 310, 0.85]</td>\n",
       "      <td>[180, 90, 280, 290, 0.85]</td>\n",
       "      <td>[210, 120, 310, 320, 0.65]</td>\n",
       "    </tr>\n",
       "    <tr>\n",
       "      <th>1</th>\n",
       "      <td>Test_case_2</td>\n",
       "      <td>[200, 100, 400, 200, 0.65]</td>\n",
       "      <td>[220, 110, 420, 210, 0.85]</td>\n",
       "      <td>[180, 90, 380, 190, 0.5]</td>\n",
       "      <td>[210, 120, 410, 220, 0.6]</td>\n",
       "    </tr>\n",
       "    <tr>\n",
       "      <th>2</th>\n",
       "      <td>Test_case_3</td>\n",
       "      <td>[100, 150, 330, 290, 0.68]</td>\n",
       "      <td>[90, 175, 320, 310, 0.9]</td>\n",
       "      <td>[350, 90, 450, 290, 0.85]</td>\n",
       "      <td>[340, 110, 440, 310, 0.75]</td>\n",
       "    </tr>\n",
       "    <tr>\n",
       "      <th>3</th>\n",
       "      <td>Test_case_4</td>\n",
       "      <td>[100, 100, 200, 300, 0.95]</td>\n",
       "      <td>[150, 110, 250, 310, 0.85]</td>\n",
       "      <td>[200, 90, 300, 290, 0.85]</td>\n",
       "      <td>[250, 120, 350, 320, 0.63]</td>\n",
       "    </tr>\n",
       "  </tbody>\n",
       "</table>\n",
       "</div>"
      ],
      "text/plain": [
       "  Test_case_number  ...                       Box_4\n",
       "0      Test_case_1  ...  [210, 120, 310, 320, 0.65]\n",
       "1      Test_case_2  ...   [210, 120, 410, 220, 0.6]\n",
       "2      Test_case_3  ...  [340, 110, 440, 310, 0.75]\n",
       "3      Test_case_4  ...  [250, 120, 350, 320, 0.63]\n",
       "\n",
       "[4 rows x 5 columns]"
      ]
     },
     "execution_count": 32,
     "metadata": {
      "tags": []
     },
     "output_type": "execute_result"
    }
   ],
   "source": [
    "# Load the datasets\n",
    "# reading CSV file\n",
    "data_nms = pd.read_csv(\"nms_testcases.csv\")\n",
    "data_nms"
   ]
  },
  {
   "cell_type": "code",
   "execution_count": null,
   "metadata": {
    "id": "b_bKlMttOEUa"
   },
   "outputs": [],
   "source": [
    "# Convert the pandas dataframe into lists\n",
    "listOfdata = data_iou.to_numpy().tolist()\n",
    "import ast\n",
    "#Create list of bounding box coordinates for each of the test cases:\n",
    "iou_test_case_1 = [ast.literal_eval(listOfdata[0][1]), ast.literal_eval(listOfdata[0][2])]\n",
    "iou_test_case_2 = [ast.literal_eval(listOfdata[1][1]), ast.literal_eval(listOfdata[1][2])]\n",
    "iou_test_case_3 = [ast.literal_eval(listOfdata[2][1]), ast.literal_eval(listOfdata[2][2])]\n",
    "iou_test_case_4 = [ast.literal_eval(listOfdata[0][1]), ast.literal_eval(listOfdata[3][2])]"
   ]
  },
  {
   "cell_type": "code",
   "execution_count": null,
   "metadata": {
    "id": "yk6289F-Be-o"
   },
   "outputs": [],
   "source": [
    "# Convert the pandas dataframe into lists\n",
    "listOfDFRows = data_nms.to_numpy().tolist()\n",
    "\n",
    "#Create list of bounding box coordinates for each of the test cases:\n",
    "nms_test_case_1 = [ast.literal_eval(listOfDFRows[0][1]), ast.literal_eval(listOfDFRows[0][2]), ast.literal_eval(listOfDFRows[0][3]), ast.literal_eval(listOfDFRows[0][4])]\n",
    "nms_test_case_2 = [ast.literal_eval(listOfDFRows[1][1]), ast.literal_eval(listOfDFRows[1][2]), ast.literal_eval(listOfDFRows[1][3]), ast.literal_eval(listOfDFRows[1][4])]\n",
    "nms_test_case_3 = [ast.literal_eval(listOfDFRows[2][1]), ast.literal_eval(listOfDFRows[2][2]), ast.literal_eval(listOfDFRows[2][3]), ast.literal_eval(listOfDFRows[2][4])]\n",
    "nms_test_case_4 = [ast.literal_eval(listOfDFRows[0][1]), ast.literal_eval(listOfDFRows[3][2]), ast.literal_eval(listOfDFRows[3][3]), ast.literal_eval(listOfDFRows[3][4])]"
   ]
  },
  {
   "cell_type": "code",
   "execution_count": null,
   "metadata": {
    "colab": {
     "base_uri": "https://localhost:8080/",
     "height": 528
    },
    "id": "JO7w7X1zPQ-t",
    "outputId": "e6e16190-9a53-42b4-fe43-8c14bdf54401"
   },
   "outputs": [
    {
     "data": {
      "image/png": "[encoded data removed]",
      "text/plain": [
       "<PIL.Image.Image image mode=RGB size=512x512 at 0x7FC89B857DD0>"
      ]
     },
     "metadata": {
      "tags": []
     },
     "output_type": "display_data"
    }
   ],
   "source": [
    "# Visualize the boxes for one of the test cases\n",
    "img = np.zeros([512,512,3] ,dtype = np.uint8)\n",
    "box1, box2= iou_test_case_1[0], iou_test_case_1[1]\n",
    "img2 = cv2.rectangle(img, (box1[0], box1[1]), (box1[2], box1[3]) , color = (0,255,0))#green\n",
    "img2 = cv2.rectangle(img, (box2[0], box2[1]), (box2[2], box2[3]) , color = (0,0,255))#red\n",
    "\n",
    "cv2_imshow(img2)"
   ]
  },
  {
   "cell_type": "code",
   "execution_count": null,
   "metadata": {
    "colab": {
     "base_uri": "https://localhost:8080/",
     "height": 528
    },
    "id": "_hnlwOwAFuDQ",
    "outputId": "2be072b1-d118-48e1-a36c-d45421d2f4f6"
   },
   "outputs": [
    {
     "data": {
      "image/png": "[encoded data removed]",
      "text/plain": [
       "<PIL.Image.Image image mode=RGB size=512x512 at 0x7FC94FBFE7D0>"
      ]
     },
     "metadata": {
      "tags": []
     },
     "output_type": "display_data"
    }
   ],
   "source": [
    "# Visualize the boxes for one of the test cases\n",
    "img = np.zeros([512,512,3] ,dtype = np.uint8)\n",
    "box1, box2, box3, box4 = nms_test_case_1[0], nms_test_case_1[1], nms_test_case_1[2], nms_test_case_1[3]\n",
    "img2 = cv2.rectangle(img, (box1[0], box1[1]), (box1[2], box1[3]) , color = (0,255,0))\n",
    "img2 = cv2.rectangle(img, (box2[0], box2[1]), (box2[2], box2[3]) , color = (0,0,255))\n",
    "img2 = cv2.rectangle(img, (box3[0], box3[1]), (box3[2], box3[3]) , color = (255,0,0))\n",
    "img2 = cv2.rectangle(img, (box4[0], box4[1]), (box4[2], box4[3]) , color = (255,255,255)) \n",
    "cv2_imshow(img2)"
   ]
  },
  {
   "cell_type": "code",
   "execution_count": null,
   "metadata": {
    "id": "p-nExADWZfck"
   },
   "outputs": [],
   "source": [
    "'''\n",
    "Exercise: Implement iou(). Some hints:\n",
    "    In this exercise only, we define a box using its two corners (lower left and\n",
    "     upper right): (x1, y1, x2, y2) rather than the midpoint and height/width.\n",
    "    To calculate the area of a rectangle you need to multiply its height \n",
    "    (y2 - y1) by its width (x2 - x1)\n",
    "    You'll also need to find the coordinates (xi1, yi1, xi2, yi2) of the \n",
    "    intersection of two boxes. \n",
    "'''\n",
    "def iou(box1, box2):\n",
    "    \"\"\"Implement the intersection over union (IoU) between box1 and box2\n",
    "    Arguments:\n",
    "    box1 -- first box, list object with coordinates (x1, y1, x2, y2)\n",
    "    box2 -- second box, list object with coordinates (x1, y1, x2, y2)\n",
    "    \"\"\"\n",
    "################################################################################\n",
    "# TODO: Replace \"None\" with the correct code/ logic to find IoU for the boxes. #\n",
    "# Remember to account for the case in which IoU is 0.                          #\n",
    "################################################################################\n",
    "# *****START OF YOUR CODE (DO NOT DELETE/MODIFY THIS LINE)*****\n",
    "    # Calculate the (y1, x1, y2, x2) coordinates of the intersection of box1   #\n",
    "    # and box2. Calculate its Area.                                            #\n",
    "    xi1 = max(box1[0],box2[0])\n",
    "    yi1 = max(box1[1],box2[1])\n",
    "    xi2 = min(box1[2],box2[2])\n",
    "    yi2 = min(box1[3],box2[3])\n",
    "    if((xi2-xi1)>0 and (yi2-yi1)>0):\n",
    "        area=(xi2-xi1)*(yi2-yi1)\n",
    "    else:\n",
    "        area=0\n",
    "    # Case in which they don't intersect --> max(,0)\n",
    "    inter_area = area\n",
    "\n",
    "    # Calculate the Union area by using Formula: Union(A,B) = A + B - Inter(A,B)\n",
    "    box1_area = (box1[2]-box1[0])*(box1[3]-box1[1])\n",
    "    box2_area = (box2[2]-box2[0])*(box2[3]-box2[1])\n",
    "    union_area = box1_area+box2_area-inter_area\n",
    "\n",
    "    # compute the IoU\n",
    "    iou =  inter_area/union_area\n",
    "################################################################################\n",
    "#                              END OF YOUR CODE                                #\n",
    "################################################################################\n",
    "    return iou"
   ]
  },
  {
   "cell_type": "code",
   "execution_count": null,
   "metadata": {
    "id": "ZGwmWxFnPgaT"
   },
   "outputs": [],
   "source": [
    "################################################################################\n",
    "# TODO: Replace \"None\" with the correct code/ logic to find IoU for the boxes. #\n",
    "# Perform iou on the test cases                                                #\n",
    "################################################################################\n",
    "iou_result_1 = iou(iou_test_case_1[0], iou_test_case_1[1])\n",
    "iou_result_2 = iou(iou_test_case_2[0], iou_test_case_2[1])\n",
    "iou_result_3 = iou(iou_test_case_3[0], iou_test_case_3[1])\n",
    "iou_result_4 = iou(iou_test_case_4[0], iou_test_case_4[1])\n",
    "################################################################################\n",
    "#                              END OF YOUR CODE                                #\n",
    "################################################################################"
   ]
  },
  {
   "cell_type": "code",
   "execution_count": null,
   "metadata": {
    "colab": {
     "base_uri": "https://localhost:8080/"
    },
    "id": "mcOsKGRmP2GN",
    "outputId": "d5430de0-693f-47e9-ddbd-255cdf113834"
   },
   "outputs": [
    {
     "name": "stdout",
     "output_type": "stream",
     "text": [
      "IoU for 1st test case is:  0.004039937669533099 IoU for 2nd test case is:  0.15201036013813518 IoU for 3rd test case is:  -0.0 IoU for 4th test case is:  0.07477937761263354\n"
     ]
    }
   ],
   "source": [
    "# Print out the test cases:\n",
    "print(\"IoU for 1st test case is: \", iou_result_1, \n",
    "      \"IoU for 2nd test case is: \", iou_result_2, \n",
    "      \"IoU for 3rd test case is: \", iou_result_3, \n",
    "      \"IoU for 4th test case is: \", iou_result_4)"
   ]
  },
  {
   "cell_type": "code",
   "execution_count": null,
   "metadata": {
    "id": "r45hrkRJekb_"
   },
   "outputs": [],
   "source": [
    "'''\n",
    "Exercise: Implement nms(). Some hints:\n",
    "    In this functoin, we will be performing non max suppression to select \n",
    "    bounding boxes for an object.\n",
    "    We will be assuming there is only one class of objects. However, the code is\n",
    "    is not very different for multiple classes of objects. \n",
    "    \n",
    "    c_score represents the confidence score of particular bounding box.\n",
    "\n",
    "    Use the iou function defined earlier.\n",
    "\n",
    "    Remember the algorithm to perform nms:\n",
    "    Discard all bounding boxes with confidence score < c_score_threshold\n",
    "    While there are any remaining boxes:\n",
    "      Pick box with largest confidence, output that as prediction.\n",
    "      Discard any remaining boxes with IoU > iou_threshold with the output box. \n",
    "\n",
    "    0.6 is an arbitrary number- feel free to experiment with it.\n",
    "\n",
    "    Make use of list comprehenion\n",
    "'''\n",
    "def nms(bboxes,iou_threshold,c_score_threshold):\n",
    "  '''\n",
    "    Implement non max supression given a list of bounding boxes.\n",
    "    Arguments:\n",
    "    bboxes: list of lists- the inner lists contain 5 elements and are of the\n",
    "            following format: [x1, y1, x2, y2, c_score]\n",
    "    iou_threshold: The threshold above which bounding boxes with lower confidence\n",
    "                    score are removed.\n",
    "    c_score_threshold: The minimum value of c_score below which bounding boxes\n",
    "                       are removed.\n",
    "    ''' \n",
    "################################################################################\n",
    "# TODO: Replace \"None\" with the correct code/ logic to find IoU for the boxes. #\n",
    "# Remember to account for the case in which IoU is 0.                          #\n",
    "################################################################################\n",
    "# *****START OF YOUR CODE (DO NOT DELETE/MODIFY THIS LINE)*****\n",
    "\n",
    "  #Using list comprehension (or otherwise), select bounding boxes which have\n",
    "  # confidence score greater than c_score_threshold.\n",
    "  bboxes = [x for x in bboxes if x[4]>=c_score_threshold]\n",
    "\n",
    "  #Sort the bounding boxes in decresing order of confidence score.\n",
    "  bboxes.sort(reverse=True)\n",
    "\n",
    "  #An empty list to store selected bounding boxes.\n",
    "  boxes_after_nms = []\n",
    "\n",
    "  #Loop through the bounding boxes\n",
    "  while bboxes:\n",
    "      #Select box with highest confidence score\n",
    "      chosen_box = bboxes[0]\n",
    "      #Using list comprehension (or otherwise), eliminate bounding boxes whose\n",
    "      #iou with \"chosen_box\" is greater than threshold.\n",
    "      bboxes = [x for x in bboxes if iou(chosen_box,x)<=iou_threshold]\n",
    "      #Add the bbox with highest confidence score to the formerly created list.\n",
    "      boxes_after_nms.append(chosen_box)\n",
    "################################################################################\n",
    "#                              END OF YOUR CODE                                #\n",
    "################################################################################\n",
    "  return boxes_after_nms"
   ]
  },
  {
   "cell_type": "code",
   "execution_count": null,
   "metadata": {
    "id": "fyFjVHu9RMHW"
   },
   "outputs": [],
   "source": [
    "################################################################################\n",
    "# TODO: Replace \"None\" with the correct code/ logic to find nms for the boxes. #\n",
    "# Perform nms on the test cases \n",
    "# Experiment with values for iou threshold and c_score threshold               #\n",
    "################################################################################\n",
    "nms_result_1 = nms(nms_test_case_1,0.5,0.7)\n",
    "nms_result_2 = nms(nms_test_case_2,0.5,0.7)\n",
    "nms_result_3 = nms(nms_test_case_3,0.5,0.7)\n",
    "nms_result_4 = nms(nms_test_case_4,0.5,0.7)\n",
    "################################################################################\n",
    "#                              END OF YOUR CODE                                #\n",
    "################################################################################"
   ]
  },
  {
   "cell_type": "code",
   "execution_count": null,
   "metadata": {
    "colab": {
     "base_uri": "https://localhost:8080/"
    },
    "id": "FTet-ea9Jyh-",
    "outputId": "53a94649-d069-47c0-c6e0-922e0107c755"
   },
   "outputs": [
    {
     "name": "stdout",
     "output_type": "stream",
     "text": [
      "Number of bounding boxes returned for 1st test case is:  2 Number of bounding boxes returned for 2nd test case is:  1 Number of bounding boxes returned for 3rd test case is:  2 Number of bounding boxes returned for 4th test case is:  2\n"
     ]
    }
   ],
   "source": [
    "# Check the number of bounding boxes returned for eaach test case.\n",
    "print(\"Number of bounding boxes returned for 1st test case is: \", len(nms_result_1), \n",
    "      \"Number of bounding boxes returned for 2nd test case is: \", len(nms_result_2),\n",
    "      \"Number of bounding boxes returned for 3rd test case is: \", len(nms_result_3),\n",
    "      \"Number of bounding boxes returned for 4th test case is: \", len(nms_result_4))"
   ]
  },
  {
   "cell_type": "code",
   "execution_count": null,
   "metadata": {
    "colab": {
     "base_uri": "https://localhost:8080/",
     "height": 528
    },
    "id": "IQSVNBkqGs9f",
    "outputId": "e6f7b12e-d954-4a99-ac5d-37e87f1c45c4"
   },
   "outputs": [
    {
     "data": {
      "image/png": "[encoded data removed]",
      "text/plain": [
       "<PIL.Image.Image image mode=RGB size=512x512 at 0x7FC896915650>"
      ]
     },
     "metadata": {
      "tags": []
     },
     "output_type": "display_data"
    }
   ],
   "source": [
    "# Depending on the number of bounding boxes, visualize the results. \n",
    "img = np.zeros([512,512,3] ,dtype = np.uint8)\n",
    "\n",
    "box1 = nms_result_1[0]\n",
    "img2 = cv2.rectangle(img, (box1[0], box1[1]), (box1[2], box1[3]) , color = (0,0,255))\n",
    "box2=nms_result_1[1]\n",
    "img2 = cv2.rectangle(img, (box2[0], box2[1]), (box2[2], box2[3]) , color = (0,255,0))\n",
    "cv2_imshow(img)"
   ]
  },
  {
   "cell_type": "code",
   "execution_count": null,
   "metadata": {
    "id": "_32iAHZV3F7R"
   },
   "outputs": [],
   "source": []
  }
 ],
 "metadata": {
  "accelerator": "GPU",
  "colab": {
   "collapsed_sections": [],
   "name": "CS20B084_SS7.ipynb",
   "provenance": [],
   "toc_visible": true
  },
  "kernelspec": {
   "display_name": "Python 3",
   "language": "python",
   "name": "python3"
  },
  "language_info": {
   "codemirror_mode": {
    "name": "ipython",
    "version": 3
   },
   "file_extension": ".py",
   "mimetype": "text/x-python",
   "name": "python",
   "nbconvert_exporter": "python",
   "pygments_lexer": "ipython3",
   "version": "3.7.4"
  },
  "widgets": {
   "application/vnd.jupyter.widget-state+json": {
    "4745efc97ce04c149937fba0f24f43e8": {
     "model_module": "@jupyter-widgets/controls",
     "model_module_version": "1.5.0",
     "model_name": "HBoxModel",
     "state": {
      "_dom_classes": [],
      "_model_module": "@jupyter-widgets/controls",
      "_model_module_version": "1.5.0",
      "_model_name": "HBoxModel",
      "_view_count": null,
      "_view_module": "@jupyter-widgets/controls",
      "_view_module_version": "1.5.0",
      "_view_name": "HBoxView",
      "box_style": "",
      "children": [
       "IPY_MODEL_b121f689f10a408991693ec87c387403",
       "IPY_MODEL_baba3b242e0d4c2594527479103ac14c"
      ],
      "layout": "IPY_MODEL_e73df76b302a4c5f8b1c5388b30ccb88"
     }
    },
    "61cda4f50a17484192889dd59a99ba9e": {
     "model_module": "@jupyter-widgets/base",
     "model_module_version": "1.2.0",
     "model_name": "LayoutModel",
     "state": {
      "_model_module": "@jupyter-widgets/base",
      "_model_module_version": "1.2.0",
      "_model_name": "LayoutModel",
      "_view_count": null,
      "_view_module": "@jupyter-widgets/base",
      "_view_module_version": "1.2.0",
      "_view_name": "LayoutView",
      "align_content": null,
      "align_items": null,
      "align_self": null,
      "border": null,
      "bottom": null,
      "display": null,
      "flex": null,
      "flex_flow": null,
      "grid_area": null,
      "grid_auto_columns": null,
      "grid_auto_flow": null,
      "grid_auto_rows": null,
      "grid_column": null,
      "grid_gap": null,
      "grid_row": null,
      "grid_template_areas": null,
      "grid_template_columns": null,
      "grid_template_rows": null,
      "height": null,
      "justify_content": null,
      "justify_items": null,
      "left": null,
      "margin": null,
      "max_height": null,
      "max_width": null,
      "min_height": null,
      "min_width": null,
      "object_fit": null,
      "object_position": null,
      "order": null,
      "overflow": null,
      "overflow_x": null,
      "overflow_y": null,
      "padding": null,
      "right": null,
      "top": null,
      "visibility": null,
      "width": null
     }
    },
    "8d119f6bbc264ce5aa72a0b41dae4a89": {
     "model_module": "@jupyter-widgets/controls",
     "model_module_version": "1.5.0",
     "model_name": "ProgressStyleModel",
     "state": {
      "_model_module": "@jupyter-widgets/controls",
      "_model_module_version": "1.5.0",
      "_model_name": "ProgressStyleModel",
      "_view_count": null,
      "_view_module": "@jupyter-widgets/base",
      "_view_module_version": "1.2.0",
      "_view_name": "StyleView",
      "bar_color": null,
      "description_width": "initial"
     }
    },
    "9990b506f2a6422da9fccbd776e8d119": {
     "model_module": "@jupyter-widgets/controls",
     "model_module_version": "1.5.0",
     "model_name": "DescriptionStyleModel",
     "state": {
      "_model_module": "@jupyter-widgets/controls",
      "_model_module_version": "1.5.0",
      "_model_name": "DescriptionStyleModel",
      "_view_count": null,
      "_view_module": "@jupyter-widgets/base",
      "_view_module_version": "1.2.0",
      "_view_name": "StyleView",
      "description_width": ""
     }
    },
    "b121f689f10a408991693ec87c387403": {
     "model_module": "@jupyter-widgets/controls",
     "model_module_version": "1.5.0",
     "model_name": "FloatProgressModel",
     "state": {
      "_dom_classes": [],
      "_model_module": "@jupyter-widgets/controls",
      "_model_module_version": "1.5.0",
      "_model_name": "FloatProgressModel",
      "_view_count": null,
      "_view_module": "@jupyter-widgets/controls",
      "_view_module_version": "1.5.0",
      "_view_name": "ProgressView",
      "bar_style": "success",
      "description": "100%",
      "description_tooltip": null,
      "layout": "IPY_MODEL_d9f195e911d2456e97e2b8a3a640086e",
      "max": 46830571,
      "min": 0,
      "orientation": "horizontal",
      "style": "IPY_MODEL_8d119f6bbc264ce5aa72a0b41dae4a89",
      "value": 46830571
     }
    },
    "baba3b242e0d4c2594527479103ac14c": {
     "model_module": "@jupyter-widgets/controls",
     "model_module_version": "1.5.0",
     "model_name": "HTMLModel",
     "state": {
      "_dom_classes": [],
      "_model_module": "@jupyter-widgets/controls",
      "_model_module_version": "1.5.0",
      "_model_name": "HTMLModel",
      "_view_count": null,
      "_view_module": "@jupyter-widgets/controls",
      "_view_module_version": "1.5.0",
      "_view_name": "HTMLView",
      "description": "",
      "description_tooltip": null,
      "layout": "IPY_MODEL_61cda4f50a17484192889dd59a99ba9e",
      "placeholder": "​",
      "style": "IPY_MODEL_9990b506f2a6422da9fccbd776e8d119",
      "value": " 44.7M/44.7M [00:00&lt;00:00, 142MB/s]"
     }
    },
    "d9f195e911d2456e97e2b8a3a640086e": {
     "model_module": "@jupyter-widgets/base",
     "model_module_version": "1.2.0",
     "model_name": "LayoutModel",
     "state": {
      "_model_module": "@jupyter-widgets/base",
      "_model_module_version": "1.2.0",
      "_model_name": "LayoutModel",
      "_view_count": null,
      "_view_module": "@jupyter-widgets/base",
      "_view_module_version": "1.2.0",
      "_view_name": "LayoutView",
      "align_content": null,
      "align_items": null,
      "align_self": null,
      "border": null,
      "bottom": null,
      "display": null,
      "flex": null,
      "flex_flow": null,
      "grid_area": null,
      "grid_auto_columns": null,
      "grid_auto_flow": null,
      "grid_auto_rows": null,
      "grid_column": null,
      "grid_gap": null,
      "grid_row": null,
      "grid_template_areas": null,
      "grid_template_columns": null,
      "grid_template_rows": null,
      "height": null,
      "justify_content": null,
      "justify_items": null,
      "left": null,
      "margin": null,
      "max_height": null,
      "max_width": null,
      "min_height": null,
      "min_width": null,
      "object_fit": null,
      "object_position": null,
      "order": null,
      "overflow": null,
      "overflow_x": null,
      "overflow_y": null,
      "padding": null,
      "right": null,
      "top": null,
      "visibility": null,
      "width": null
     }
    },
    "e73df76b302a4c5f8b1c5388b30ccb88": {
     "model_module": "@jupyter-widgets/base",
     "model_module_version": "1.2.0",
     "model_name": "LayoutModel",
     "state": {
      "_model_module": "@jupyter-widgets/base",
      "_model_module_version": "1.2.0",
      "_model_name": "LayoutModel",
      "_view_count": null,
      "_view_module": "@jupyter-widgets/base",
      "_view_module_version": "1.2.0",
      "_view_name": "LayoutView",
      "align_content": null,
      "align_items": null,
      "align_self": null,
      "border": null,
      "bottom": null,
      "display": null,
      "flex": null,
      "flex_flow": null,
      "grid_area": null,
      "grid_auto_columns": null,
      "grid_auto_flow": null,
      "grid_auto_rows": null,
      "grid_column": null,
      "grid_gap": null,
      "grid_row": null,
      "grid_template_areas": null,
      "grid_template_columns": null,
      "grid_template_rows": null,
      "height": null,
      "justify_content": null,
      "justify_items": null,
      "left": null,
      "margin": null,
      "max_height": null,
      "max_width": null,
      "min_height": null,
      "min_width": null,
      "object_fit": null,
      "object_position": null,
      "order": null,
      "overflow": null,
      "overflow_x": null,
      "overflow_y": null,
      "padding": null,
      "right": null,
      "top": null,
      "visibility": null,
      "width": null
     }
    }
   }
  }
 },
 "nbformat": 4,
 "nbformat_minor": 1
}
