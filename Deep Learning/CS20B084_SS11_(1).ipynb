{
  "nbformat": 4,
  "nbformat_minor": 0,
  "metadata": {
    "colab": {
      "name": "CS20B084_SS11 (1).ipynb",
      "provenance": []
    },
    "kernelspec": {
      "display_name": "Python 3",
      "language": "python",
      "name": "python3"
    },
    "language_info": {
      "codemirror_mode": {
        "name": "ipython",
        "version": 3
      },
      "file_extension": ".py",
      "mimetype": "text/x-python",
      "name": "python",
      "nbconvert_exporter": "python",
      "pygments_lexer": "ipython3",
      "version": "3.8.5"
    }
  },
  "cells": [
    {
      "cell_type": "markdown",
      "metadata": {
        "id": "sqX8zONPzfGa"
      },
      "source": [
        "# Black Hole\n",
        "### This game is described using a 10 X 10 grid :\n",
        ">   \n",
        "\\_ \\_ \\_ \\_ \\_ \\_ \\_ \\_ \\_ H  \n",
        "\\_ \\_ \\_ \\_ \\_ \\_ \\_ H \\_ \\_  \n",
        "\\_ \\_ \\_ \\_ \\_ H \\_ \\_ \\_ \\_  \n",
        "\\_ \\_ \\_ H \\_ \\_ \\_ \\_ \\_ \\_  \n",
        "\\_ H \\_ \\_ \\_ \\_ \\_ \\_ \\_ \\_  \n",
        "\\_ \\_ \\_ \\_ \\_ \\_ \\_ \\_ \\_ H  \n",
        "\\_ \\_ \\_ \\_ \\_ \\_ \\_ H \\_ \\_  \n",
        "\\_ \\_ \\_ \\_ \\_ H \\_ \\_ \\_ \\_  \n",
        "\\_ \\_ \\_ H \\_ \\_ \\_ \\_ \\_ \\_  \n",
        "G H \\_ \\_ \\_ \\_ \\_ \\_ \\_ \\_  \n",
        "\n",
        "\\_ : Safe path  \n",
        "H : Black Hole, avoid falling  \n",
        "G: Goal, target to reach  \n",
        "\n",
        "Holes will continuously move 1 step left during each timestep.  \n",
        "Your goal is to reach G.  \n",
        "You fall into the hole only if your position coincides with the hole.  \n",
        "The episode ends when you reach G or fall in H.  \n",
        "If you reach G, you win.  \n",
        "If you reach H, you lose.  \n",
        "If you reach G at a time when it coincides with H, you lose.  \n",
        "## Reward Scheme \n",
        "- 1 if you reach G  \n",
        "- -1 if you fall in H  \n",
        "- 0 otherwise.\n"
      ]
    },
    {
      "cell_type": "markdown",
      "metadata": {
        "id": "HV64yW7Tl1Tj"
      },
      "source": [
        "# **DO NOT EDIT THE CELL BELOW**"
      ]
    },
    {
      "cell_type": "code",
      "metadata": {
        "id": "42AI1ItvI_Ho"
      },
      "source": [
        "import random\n",
        "import sys\n",
        "import copy\n",
        "class BlackHole:\n",
        "  class action:\n",
        "    def __init__(self):\n",
        "      self.total_actions = 5\n",
        "      self.dtype = type(self.total_actions)\n",
        "      self.__out=sys.stdout\n",
        "    \n",
        "    def random_action(self):\n",
        "      act = random.randint(1,5)\n",
        "      return act\n",
        "\n",
        "    def show_actions(self):\n",
        "      actions= \"1->Up, 2->Right, 3->Down, 4->Left 5->Stay\"\n",
        "      self.__out.write(actions)\n",
        "    \n",
        "  class observation:\n",
        "    def __init__(self):\n",
        "      self.total_observations = 1000\n",
        "      self.dtype = type(self.total_observations)\n",
        "      self.__lst =[x for x in range(1,1000) if x%100 is not 0]\n",
        "\n",
        "    def random(self):\n",
        "      obs = random.sample(self.__lst,1)[0]\n",
        "      return obs\n",
        "  def __init__(self):\n",
        "    self.observation_space = self.observation()\n",
        "    self.__map=['_________H',\n",
        "                '_______H__',\n",
        "                '_____H____',\n",
        "                '___H______',\n",
        "                '_H________',\n",
        "                '_________H',\n",
        "                '_______H__',\n",
        "                '_____H____',\n",
        "                '___H______',\n",
        "                'GH________']\n",
        "    self.action_space = self.action()\n",
        "    self.__x = None\n",
        "    self.__y = None\n",
        "    self.__state = None\n",
        "    self.__out = sys.stdout\n",
        "    self.__action = None\n",
        "    self.__action_dict = {1:'Up',2:'Right',3:'Down',4:'Left',5:'Stay'}\n",
        "    self.__done = False\n",
        "    self.__h = None\n",
        "\n",
        "  def reset(self):\n",
        "    self.__y = 0\n",
        "    self.__h = 9\n",
        "    self.__adjust_h()\n",
        "    self.__x = random.randint(0,4)\n",
        "    self.current_state()\n",
        "    self.__action = None\n",
        "    self.__done = False\n",
        "    return self.__state\n",
        "\n",
        "  def __adjust_h(self):\n",
        "    for i in  range(len(self.__map)):\n",
        "      if i==9 and self.__map[i].count('_')==9:\n",
        "        self.__map[9] = self.__map[9][:9]\n",
        "      self.__map[i] = ''.join(i for i in self.__map[i] if i is not 'H')\n",
        "      index = self.__h-2*i \n",
        "      index  = index + (index<0 and index>-10)*10 + (index<-10)*20 \n",
        "      self.__map[i] = self.__map[i][:index] + 'H' + self.__map[i][index:]\n",
        "    if self.__h == 8:\n",
        "      self.__map[9] = ''.join(i for i in self.__map[9] if i is not 'H')+'_'\n",
        "  \n",
        "  def current_state(self):\n",
        "    if self.__y is not None:\n",
        "     self.__state = (9-self.__h)*100+self.__y*10+self.__x+1\n",
        "    return self.__state\n",
        "\n",
        "  def take_step(self,action):\n",
        "    if self.__done == False :\n",
        "      reward = 0.0\n",
        "      if action == 1:\n",
        "        if self.__y-1>=0:\n",
        "          self.__y-=1\n",
        "        self.__action = action\n",
        "      elif action == 3:\n",
        "        if self.__y+1<=9:\n",
        "          self.__y+=1\n",
        "        self.__action = action\n",
        "      elif action == 2:\n",
        "        if self.__x+1<=9:\n",
        "          self.__x+=1\n",
        "        self.__action = action\n",
        "      elif action == 4:\n",
        "        if self.__x-1>=0:\n",
        "          self.__x-=1\n",
        "        self.__action = action\n",
        "      elif action == 5:\n",
        "        self.__action = action\n",
        "      else:\n",
        "        self.__out.write(\"Enter a valid action.\")\n",
        "        return\n",
        "      self.__h  = self.__h -1 + (self.__h-1<0)*10\n",
        "      self.__adjust_h()\n",
        "      self.current_state()\n",
        "      if self.__map[self.__y][self.__x]=='G' :\n",
        "        reward=1.0\n",
        "        self.__done= True\n",
        "        if self.__h ==8:\n",
        "          reward = -1.0\n",
        "          self.__done = True\n",
        "      if self.__map[self.__y][self.__x]=='H':\n",
        "        reward = -1.0\n",
        "        self.__done = True\n",
        "      return self.__state,reward,self.__done\n",
        "    else :\n",
        "      self.__out.write(\"\\n\\033[38;5;11mWARN: You are calling 'step()' even though this environment has already returned done = True. You should always call 'reset()' once you receive 'done = True\\033[0;0m\")\n",
        "\n",
        "  def show(self):\n",
        "    if self.__state is not None:\n",
        "      map = copy.deepcopy(self.__map)\n",
        "      val = map[self.__y][self.__x]\n",
        "      map[self.__y] = map[self.__y][:self.__x] + 'P' +map[self.__y][self.__x+1:]\n",
        "      map = self.__add_colour_h(map)\n",
        "      map[-1]=map[-1].replace('G',\"\\033[38;5;12mG\\033[0;0m\")\n",
        "      map[self.__y] = map[self.__y].replace('P',f'\\033[48;5;9m{val}\\033[0;0m')\n",
        "      if self.__action is not None:\n",
        "        self.__out.write('\\n'+self.__action_dict[self.__action])\n",
        "      self.__out.write(\"\\n+----------+\")\n",
        "      for i in map:\n",
        "        self.__out.write('\\n|'+i+'|')\n",
        "      self.__out.write(\"\\n+----------+\")\n",
        "      if val =='H':\n",
        "        self.__out.write(\"\\nTRY AGAIN.......You fell in Black Hole!!!\")\n",
        "      if val =='G':\n",
        "        if self.__h is not 8 : \n",
        "          self.__out.write(\"\\nGG!!\")\n",
        "        else :\n",
        "          self.__out.write(\"\\nYou reached but fell in Black Hole\")\n",
        "      self.__out.write(\"\\n\")\n",
        "    else :\n",
        "      self.__out.write('NONE')\n",
        "\n",
        "  def __add_colour_h(self,map):\n",
        "    for i in range(len(map)):\n",
        "      map[i]=map[i].replace('H','\\033[48;5;16mH\\033[0;0m')\n",
        "    if self.__h == 8:\n",
        "      map[9] = map[9].replace('G','\\033[48;5;16mG\\033[0;0m')\n",
        "    return map\n",
        "\n",
        "  def set_state(self,state):\n",
        "    if state>1000 or state<1:\n",
        "      self.__out.write(\"Enter a valid state.\")\n",
        "      return\n",
        "    self.__state = state\n",
        "    self.__h = 9 - (state-1)//100\n",
        "    self.__y = ((state-1)%100)//10\n",
        "    self.__x = ((state-1)%100)%10\n",
        "    self.__adjust_h()\n",
        "    if self.__map[self.__y][self.__x]=='_':\n",
        "      self.__done = False\n",
        "    else: \n",
        "      self.__done = True\n",
        "    self.__action = None"
      ],
      "execution_count": 1,
      "outputs": []
    },
    {
      "cell_type": "markdown",
      "metadata": {
        "id": "Yj_sx_AH2Sum"
      },
      "source": [
        "# Environment methods and attributes"
      ]
    },
    {
      "cell_type": "code",
      "metadata": {
        "id": "Tz4_-7xu2mL2"
      },
      "source": [
        "env = BlackHole() #Creating object of BlackHole class"
      ],
      "execution_count": 2,
      "outputs": []
    },
    {
      "cell_type": "code",
      "metadata": {
        "colab": {
          "base_uri": "https://localhost:8080/"
        },
        "id": "7ocX7o8B2tj1",
        "outputId": "0298b366-e136-4d5a-fc8f-a9b3d19bb4cb"
      },
      "source": [
        "print(env.observation_space.total_observations) #Total observations in observation space\n",
        "print(env.observation_space.random()) # Random observation from observation space"
      ],
      "execution_count": 3,
      "outputs": [
        {
          "output_type": "stream",
          "name": "stdout",
          "text": [
            "1000\n",
            "886\n"
          ]
        }
      ]
    },
    {
      "cell_type": "code",
      "metadata": {
        "colab": {
          "base_uri": "https://localhost:8080/"
        },
        "id": "aE3kSOaN3tNr",
        "outputId": "9697643e-7c00-4874-ed88-b3cd348f4c7d"
      },
      "source": [
        "print(env.action_space.total_actions) #Total actions in action space\n",
        "print(env.action_space.random_action()) #Returns random action from action space\n",
        "env.action_space.show_actions() #Prints details about actions in action space"
      ],
      "execution_count": 4,
      "outputs": [
        {
          "output_type": "stream",
          "name": "stdout",
          "text": [
            "5\n",
            "5\n",
            "1->Up, 2->Right, 3->Down, 4->Left 5->Stay"
          ]
        }
      ]
    },
    {
      "cell_type": "code",
      "metadata": {
        "colab": {
          "base_uri": "https://localhost:8080/"
        },
        "id": "7mm8C4zO3uyg",
        "outputId": "622d4c6a-cd40-4386-cc39-d23443348a92"
      },
      "source": [
        "print(env.current_state()) #No state is initialized"
      ],
      "execution_count": 5,
      "outputs": [
        {
          "output_type": "stream",
          "name": "stdout",
          "text": [
            "None\n"
          ]
        }
      ]
    },
    {
      "cell_type": "code",
      "metadata": {
        "colab": {
          "base_uri": "https://localhost:8080/"
        },
        "id": "LkCeJnMS3xud",
        "outputId": "956d8413-6359-4095-da59-459c73312638"
      },
      "source": [
        "env.reset() #initializes game and you are spawned at one of first five blocks\n",
        "env.show() #prints observation\n",
        "print(env.current_state())"
      ],
      "execution_count": 6,
      "outputs": [
        {
          "output_type": "stream",
          "name": "stdout",
          "text": [
            "\n",
            "+----------+\n",
            "|_\u001b[48;5;9m_\u001b[0;0m_______\u001b[48;5;16mH\u001b[0;0m|\n",
            "|_______\u001b[48;5;16mH\u001b[0;0m__|\n",
            "|_____\u001b[48;5;16mH\u001b[0;0m____|\n",
            "|___\u001b[48;5;16mH\u001b[0;0m______|\n",
            "|_\u001b[48;5;16mH\u001b[0;0m________|\n",
            "|_________\u001b[48;5;16mH\u001b[0;0m|\n",
            "|_______\u001b[48;5;16mH\u001b[0;0m__|\n",
            "|_____\u001b[48;5;16mH\u001b[0;0m____|\n",
            "|___\u001b[48;5;16mH\u001b[0;0m______|\n",
            "|\u001b[38;5;12mG\u001b[0;0m\u001b[48;5;16mH\u001b[0;0m________|\n",
            "+----------+\n",
            "2\n"
          ]
        }
      ]
    },
    {
      "cell_type": "code",
      "metadata": {
        "colab": {
          "base_uri": "https://localhost:8080/"
        },
        "id": "BV1rFKPt45fL",
        "outputId": "0c16eeb8-d8a5-42d7-fd0f-935fbff7663c"
      },
      "source": [
        "env.set_state(env.observation_space.random()) #state of environment is changed to state specified\n",
        "env.show() \n",
        "print(env._BlackHole__out)"
      ],
      "execution_count": 7,
      "outputs": [
        {
          "output_type": "stream",
          "name": "stdout",
          "text": [
            "\n",
            "+----------+\n",
            "|_______\u001b[48;5;16mH\u001b[0;0m__|\n",
            "|_____\u001b[48;5;16mH\u001b[0;0m____|\n",
            "|___\u001b[48;5;16mH\u001b[0;0m______|\n",
            "|_\u001b[48;5;16mH\u001b[0;0m________|\n",
            "|_________\u001b[48;5;16mH\u001b[0;0m|\n",
            "|_______\u001b[48;5;16mH\u001b[0;0m__|\n",
            "|_____\u001b[48;5;16mH\u001b[0;0m____|\n",
            "|__\u001b[48;5;9m_\u001b[0;0m\u001b[48;5;16mH\u001b[0;0m______|\n",
            "|_\u001b[48;5;16mH\u001b[0;0m________|\n",
            "|\u001b[38;5;12mG\u001b[0;0m________\u001b[48;5;16mH\u001b[0;0m|\n",
            "+----------+\n",
            "<ipykernel.iostream.OutStream object at 0x7f084d0348d0>\n"
          ]
        }
      ]
    },
    {
      "cell_type": "markdown",
      "metadata": {
        "id": "-6-bR6VW4IfZ"
      },
      "source": [
        "### env.take_step( ) returns THREE values only -- state, reward and done (episode completed or not) "
      ]
    },
    {
      "cell_type": "code",
      "metadata": {
        "colab": {
          "base_uri": "https://localhost:8080/"
        },
        "id": "jTujgWrb4HS_",
        "outputId": "04f84177-07c7-41d5-dfab-f4d60533ca0a"
      },
      "source": [
        "from IPython.display import clear_output\n",
        "from time import sleep\n",
        "env.reset()\n",
        "done = False\n",
        "while True:\n",
        "  env.show()\n",
        "  clear_output(wait=True)\n",
        "  sleep(0.5)\n",
        "  if done: \n",
        "    break\n",
        "  action = env.action_space.random_action()\n",
        "  state,reward,done = env.take_step(action)"
      ],
      "execution_count": 8,
      "outputs": [
        {
          "output_type": "stream",
          "name": "stdout",
          "text": [
            "\n",
            "Stay\n",
            "+----------+\n",
            "|_____\u001b[48;5;16mH\u001b[0;0m____|\n",
            "|___\u001b[48;5;9mH\u001b[0;0m______|\n",
            "|_\u001b[48;5;16mH\u001b[0;0m________|\n",
            "|_________\u001b[48;5;16mH\u001b[0;0m|\n",
            "|_______\u001b[48;5;16mH\u001b[0;0m__|\n",
            "|_____\u001b[48;5;16mH\u001b[0;0m____|\n",
            "|___\u001b[48;5;16mH\u001b[0;0m______|\n",
            "|_\u001b[48;5;16mH\u001b[0;0m________|\n",
            "|_________\u001b[48;5;16mH\u001b[0;0m|\n",
            "|\u001b[38;5;12mG\u001b[0;0m______\u001b[48;5;16mH\u001b[0;0m__|\n",
            "+----------+\n",
            "TRY AGAIN.......You fell in Black Hole!!!\n"
          ]
        }
      ]
    },
    {
      "cell_type": "markdown",
      "metadata": {
        "id": "ohra4kBeYvhw"
      },
      "source": [
        "## **Task**\n",
        "### Now you are familiar with BlackHole environment. You have to implement Q-learning on this custom environment. Remember you are not allowed to do any changes in BlackHole class."
      ]
    },
    {
      "cell_type": "code",
      "metadata": {
        "id": "Wu5POJtAdyIt"
      },
      "source": [
        "import numpy as np\n",
        "import random\n",
        "q_table = np.zeros([env.observation_space.total_observations+1, env.action_space.total_actions+1])\n",
        "q_table[0]=-np.inf*np.ones(env.action_space.total_actions+1) #0 action is not allowed\n",
        "q_table[:,0]=-np.inf*np.ones([1,env.observation_space.total_observations+1])\n",
        "(alpha, gamma, episodes, epsilon) = (0.6, 0.9, 10000, 0.7) #epsilon is set to high and then it decays with episodes\n",
        "total_epochs =0\n",
        "illegal_episode =[]\n",
        "\n",
        "for i in range(episodes):\n",
        "  state = env.reset()\n",
        "  epochs = 0\n",
        "  reward_tot =0  \n",
        "  illegal =0\n",
        "  done_states=[]\n",
        "  done = False \n",
        "  while not done:\n",
        "    rand = random.uniform(0,1)\n",
        "    if rand < epsilon:\n",
        "      action = env.action_space.random_action()\n",
        "    if rand >= epsilon:\n",
        "      action = np.argmax(q_table[state])\n",
        "    new_state, reward, done = env.take_step(action)\n",
        "    if new_state in done_states:\n",
        "      reward-=0.5  #To avoid staying in same row and not going towards G\n",
        "    else:\n",
        "      done_states.append(new_state)\n",
        "    if reward == -1:\n",
        "      illegal+=1\n",
        "\n",
        "    epochs += 1\n",
        "\n",
        "    #Q_cal = Reward + gamma*max{a}(Q(s',.))\n",
        "    #new_q = oldq + aplha(Q_cal - oldq) = (1-alpha)oldq + alpha(Q_cal)\n",
        "          \n",
        "\n",
        "    oldq = q_table[state, action]\n",
        "    new_state_max = np.max(q_table[new_state]) \n",
        "    newq = (1 - alpha) * oldq + alpha * (reward + gamma * new_state_max)\n",
        "    q_table[state, action] = newq\n",
        "    \n",
        "    state = new_state\n",
        "    epochs+=1\n",
        "  illegal_episode.append(illegal)\n",
        "  total_epochs+=epochs\n",
        "  epsilon-=0.00005\n",
        "\n",
        "total_epochs/=episodes"
      ],
      "execution_count": 9,
      "outputs": []
    },
    {
      "cell_type": "code",
      "metadata": {
        "colab": {
          "base_uri": "https://localhost:8080/"
        },
        "id": "d16G5mAbFXCV",
        "outputId": "51f045b7-3174-46f5-8d14-4dc85d76c3bc"
      },
      "source": [
        "state = env.reset()\n",
        "epochs = 0\n",
        "reward = 0  \n",
        "frames = []\n",
        "done = False\n",
        "while True:\n",
        "    env.show()\n",
        "    clear_output(wait=True)\n",
        "    sleep(1)\n",
        "    if done: \n",
        "      break\n",
        "    action = np.argmax(q_table[state,:])\n",
        "    new_state, reward, done= env.take_step(action)\n",
        "    state = new_state\n",
        "\n",
        "    \n",
        "    epochs += 1\n",
        "print(\"Timesteps taken: {}\".format(epochs))"
      ],
      "execution_count": 10,
      "outputs": [
        {
          "output_type": "stream",
          "name": "stdout",
          "text": [
            "Timesteps taken: 13\n"
          ]
        }
      ]
    }
  ]
}